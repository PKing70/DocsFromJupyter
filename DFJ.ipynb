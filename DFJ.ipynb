{
 "cells": [
  {
   "cell_type": "raw",
   "id": "4527fc68-3df1-465b-8db7-55a7bbfe5576",
   "metadata": {},
   "source": [
    "---\n",
    "title: Samples from Jupyter\n",
    "nav: false\n",
    "order: 1\n",
    "---"
   ]
  },
  {
   "cell_type": "markdown",
   "id": "29ded532-4979-4f56-8b66-4d379e00965a",
   "metadata": {},
   "source": [
    "## Code samples\n",
    "\n",
    "The above is frontmatter that might be needed by devportal when exported; ignore it for now. The rest of this notebook would be visible to the customer, as is. First, let's see Python work."
   ]
  },
  {
   "cell_type": "code",
   "execution_count": 7,
   "id": "dd0fdbe4-76ca-4906-92b9-e45bd4c874b8",
   "metadata": {
    "scrolled": true
   },
   "outputs": [
    {
     "name": "stdout",
     "output_type": "stream",
     "text": [
      "hello world\n"
     ]
    }
   ],
   "source": [
    "print(\"hello world\")"
   ]
  },
  {
   "cell_type": "markdown",
   "id": "bef604cd-f46b-4cd2-944e-472f34eaabab",
   "metadata": {},
   "source": [
    "For me it does; it says hello world below the python cell. Yay! One could change hello world to any other string to see dynamic running code, in its most fundamental form.\n",
    "## Splunk Observability Cloud\n",
    "\n",
    "The code below sends metric data to your Splunk Obvervability Cloud instance. Within 'https://ingest.us1.signalfx.com', replace \n",
    "_us1_ with your realm, _j195EsqEpXQgHQhec9P2ZA_ with your access token, and _you_ with your alias. If you don't do this...it actually sends metric data to _my_ instance so thanks for that."
   ]
  },
  {
   "cell_type": "code",
   "execution_count": 8,
   "id": "9939b8a6-5efd-4357-aa48-ce00e1d7e159",
   "metadata": {},
   "outputs": [
    {
     "name": "stdout",
     "output_type": "stream",
     "text": [
      "Sum of first 1 million numbers is: 499999500000\n",
      "Time sent to Splunk O11y\n"
     ]
    }
   ],
   "source": [
    "import time\n",
    "import signalfx\n",
    "\n",
    "st = time.time()\n",
    "\n",
    "sum_x = 0\n",
    "\n",
    "for i in range(1000000):\n",
    "    sum_x += i\n",
    "\n",
    "# wait for 3 seconds\n",
    "time.sleep(3)\n",
    "\n",
    "print('Sum of first 1 million numbers is:', sum_x)\n",
    "\n",
    "et = time.time()\n",
    "\n",
    "elapsed = et - st\n",
    "\n",
    "with signalfx.SignalFx(ingest_endpoint='https://ingest.us1.signalfx.com').ingest('j195EsqEpXQgHQhec9P2ZA') as sfx:\n",
    "    sfx.send(\n",
    "        gauges=[\n",
    "          {\n",
    "                \"metric\": \"execution.time\",\n",
    "                \"dimensions\": { \"host\": \"you\" },\n",
    "                \"value\": et - st\n",
    "          }\n",
    "        ])\n",
    "\n",
    "print(\"Time sent to Splunk O11y\")"
   ]
  },
  {
   "cell_type": "markdown",
   "id": "0802822c-63c4-4a1f-b9ee-391001240763",
   "metadata": {},
   "source": [
    "## Splunk Python SDK\n",
    "\n",
    "The following code processes data from a Splunk Enterprise search using the Splunk Python SDK.\n",
    "\n",
    "If you are running this notebook locally and receive something like \"ModuleNotFoundError: No module named 'splunklib'\" that means you must first install the missing package. Meaning, from your command prompt enter ``pip install splunk-sdk``. If you don't have pip, you're likely not a Python coder yet; you need to first run ``python get-pip.py``. If you don't have Python yet, you're _definitely_ not a Python coder so go install it and become one (in that case, you're not quite yet the audience for python samples in a python-based notebook.) And as the notebook will tell you: you may need to restart the Notebook kernel to use updated packages (__Kernel__, __Restart Kernel__)."
   ]
  },
  {
   "cell_type": "code",
   "execution_count": 9,
   "id": "424f826b-7c67-4988-a104-773689888f81",
   "metadata": {},
   "outputs": [],
   "source": [
    "import splunklib.client as client\n",
    "import splunklib.results as results\n",
    "from time import sleep"
   ]
  },
  {
   "cell_type": "markdown",
   "id": "058f5739-7542-4dd3-90be-3f96e2172d91",
   "metadata": {},
   "source": [
    "Now its time to connect to your already running Splunk Enterprise instance! In the following code, replace pking and password with your own Splunk Enterprise login credentials"
   ]
  },
  {
   "cell_type": "code",
   "execution_count": 10,
   "id": "49735040-b1a1-4a7e-a0cb-42f1230f89d7",
   "metadata": {},
   "outputs": [],
   "source": [
    "HOST = \"localhost\"\n",
    "PORT = 8089\n",
    "USER_NAME = \"pking\"\n",
    "PASSWORD = \"password\"\n",
    "service = client.connect(host=HOST, port=PORT, username=USER_NAME, password=PASSWORD)"
   ]
  },
  {
   "cell_type": "markdown",
   "id": "b6fe5618-efe3-40b4-8890-3bc82826b9d7",
   "metadata": {},
   "source": [
    "Now, let's do something real using SPL to get data from Splunk Enterprise."
   ]
  },
  {
   "cell_type": "code",
   "execution_count": 11,
   "id": "1ef7c7a1-b7ff-4f4a-9779-319174a30073",
   "metadata": {
    "scrolled": true
   },
   "outputs": [
    {
     "name": "stdout",
     "output_type": "stream",
     "text": [
      "{'count': '392204'}\n"
     ]
    }
   ],
   "source": [
    "job = service.jobs.create('search index=_internal ( log_level=ERROR OR log_level=WARN ) | stats count')\n",
    "while not job.is_done():\n",
    "    sleep(.2)\n",
    "rr = results.JSONResultsReader(job.results(output_mode='json'))\n",
    "for result in rr:\n",
    "    print(result)\n",
    "assert rr.is_preview == False"
   ]
  },
  {
   "cell_type": "markdown",
   "id": "c2164c0e-b370-49f1-aab6-051a81c9f69f",
   "metadata": {},
   "source": [
    "There you go: you have the count of existing warnings in your internal Splunk index! For me, when I run it, the count was 360921. Next time it should differ. But...data! That's the point."
   ]
  },
  {
   "cell_type": "markdown",
   "id": "f7c49845-9f8f-4f56-b7c1-34354bd4c9ad",
   "metadata": {},
   "source": [
    "To make it interactive, see the [Jupyter Binder form](https://mybinder.org/v2/gh/PKing70/DocsFromJupyter/HEAD?labpath=DFJ.ipynb) of this Notebook hosted by mybinder.org or click its neat badge: [![Binder](https://mybinder.org/badge_logo.svg)](https://mybinder.org/v2/gh/PKing70/DocsFromJupyter/HEAD?labpath=DFJ.ipynb) "
   ]
  },
  {
   "cell_type": "code",
   "execution_count": null,
   "id": "c754611f-08ce-4e13-8d0b-51fab46825ab",
   "metadata": {},
   "outputs": [],
   "source": []
  }
 ],
 "metadata": {
  "kernelspec": {
   "display_name": "Python 3 (ipykernel)",
   "language": "python",
   "name": "python3"
  },
  "language_info": {
   "codemirror_mode": {
    "name": "ipython",
    "version": 3
   },
   "file_extension": ".py",
   "mimetype": "text/x-python",
   "name": "python",
   "nbconvert_exporter": "python",
   "pygments_lexer": "ipython3",
   "version": "3.12.0"
  }
 },
 "nbformat": 4,
 "nbformat_minor": 5
}
